
{
 "cells": [
  {
   "cell_type": "markdown",
   "id": "3c36bef6-b105-4466-875f-d1202c962b07",
   "metadata": {},
   "source": [
    "My Jupyter Notebook on IBM Watson Studios"
   ]
  },
  {
   "cell_type": "markdown",
   "id": "9a88a93e-b60a-4ae3-b0b3-1dc5935787be",
   "metadata": {},
   "source": [
    "Gurbaaz Singh Gill"
   ]
  },
  {
   "cell_type": "markdown",
   "id": "9fff049b-69a0-4dc7-a671-ad5c840d22e8",
   "metadata": {},
   "source": [
    "I am interested in doing Data Science because i like to work with data and with like to explore more of my interests"
   ]
  },
  {
   "cell_type": "markdown",
   "id": "aea84e62-be18-4b4d-9952-3fdbfb48df13",
   "metadata": {},
   "source": [
    "The following code test addition and subtraction"
   ]
  },
  {
   "cell_type": "markdown",
   "id": "c3e1476f-5bfd-4d2f-b51f-73c8d154df3b",
   "metadata": {},
   "source": []
  },
  {
   "cell_type": "code",
   "execution_count": 7,
   "id": "2df1b281-8d73-447a-876c-c2d8140793ed",
   "metadata": {},
   "outputs": [
    {
     "name": "stdout",
     "output_type": "stream",
     "text": [
      "100\n",
      "-50\n"
     ]
    }
   ],
   "source": [
    "a=25;\n",
    "b=75;\n",
    "sum= a+b;\n",
    "difference=a-b;\n",
    "print(sum);\n",
    "print(difference);"
   ]
  },
  {
   "cell_type": "markdown",
   "id": "85a28ab7-dba1-4b41-9ea9-df7ee1a6326c",
   "metadata": {},
   "source": []
  }
 ],
 "metadata": {
  "kernelspec": {
   "display_name": "Python",
   "language": "python",
   "name": "conda-env-python-py"
  },
  "language_info": {
   "codemirror_mode": {
    "name": "ipython",
    "version": 3
   },
   "file_extension": ".py",
   "mimetype": "text/x-python",
   "name": "python",
   "nbconvert_exporter": "python",
   "pygments_lexer": "ipython3",
   "version": "3.7.12"
  }
 },
 "nbformat": 4,
 "nbformat_minor": 5
}
